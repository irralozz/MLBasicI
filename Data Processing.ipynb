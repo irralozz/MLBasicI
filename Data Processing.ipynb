{
 "cells": [
  {
   "cell_type": "code",
   "execution_count": 1,
   "id": "398bb137-b895-4069-aca8-9ed36f19917d",
   "metadata": {},
   "outputs": [],
   "source": [
    "import pandas as pd"
   ]
  },
  {
   "cell_type": "code",
   "execution_count": 2,
   "id": "84467b29-96cf-434d-b80e-95ccd9edaf91",
   "metadata": {},
   "outputs": [],
   "source": [
    "df = pd.read_csv('patients.csv')"
   ]
  },
  {
   "cell_type": "code",
   "execution_count": 3,
   "id": "0cc814c1-f662-4ca2-8aac-a660b0ccf026",
   "metadata": {},
   "outputs": [
    {
     "name": "stdout",
     "output_type": "stream",
     "text": [
      "Shape before removing duplicates: (100, 5)\n"
     ]
    }
   ],
   "source": [
    "# Display the shape of the DataFrame before removing duplicates\n",
    "print(\"Shape before removing duplicates:\", df.shape)"
   ]
  },
  {
   "cell_type": "code",
   "execution_count": 4,
   "id": "f13b3bc6-cf93-4318-9e84-7fc555a6be3d",
   "metadata": {},
   "outputs": [],
   "source": [
    "# Removing duplicate rows\n",
    "df = df.drop_duplicates()"
   ]
  },
  {
   "cell_type": "code",
   "execution_count": 7,
   "id": "5ce4e6a0-38cb-4310-b14e-1ac55ff9d67c",
   "metadata": {},
   "outputs": [
    {
     "name": "stdout",
     "output_type": "stream",
     "text": [
      "Shape after removing duplicates: (100, 5)\n"
     ]
    }
   ],
   "source": [
    "# Display the shape of the DataFrame after removing duplicates\n",
    "print(\"Shape after removing duplicates:\", df.shape)"
   ]
  },
  {
   "cell_type": "code",
   "execution_count": 11,
   "id": "ab4d5032-67ec-46d8-b67d-306c2481637e",
   "metadata": {},
   "outputs": [],
   "source": [
    "# Handling missing values\n",
    "# For demonstration, let's fill missing values in the 'Diagnosis' column with 'Unknown'\n",
    "df['Diagnosis'].fillna('Unknown', inplace=True)"
   ]
  },
  {
   "cell_type": "code",
   "execution_count": 14,
   "id": "84530df0-4d3f-4694-a68b-f645af20521f",
   "metadata": {},
   "outputs": [
    {
     "data": {
      "text/html": [
       "<div>\n",
       "<style scoped>\n",
       "    .dataframe tbody tr th:only-of-type {\n",
       "        vertical-align: middle;\n",
       "    }\n",
       "\n",
       "    .dataframe tbody tr th {\n",
       "        vertical-align: top;\n",
       "    }\n",
       "\n",
       "    .dataframe thead th {\n",
       "        text-align: right;\n",
       "    }\n",
       "</style>\n",
       "<table border=\"1\" class=\"dataframe\">\n",
       "  <thead>\n",
       "    <tr style=\"text-align: right;\">\n",
       "      <th></th>\n",
       "      <th>PatientID</th>\n",
       "      <th>Name</th>\n",
       "      <th>Age</th>\n",
       "      <th>Diagnosis</th>\n",
       "      <th>LabResult</th>\n",
       "    </tr>\n",
       "  </thead>\n",
       "  <tbody>\n",
       "    <tr>\n",
       "      <th>0</th>\n",
       "      <td>1001</td>\n",
       "      <td>Patient_1</td>\n",
       "      <td>20</td>\n",
       "      <td>Diabetes</td>\n",
       "      <td>167</td>\n",
       "    </tr>\n",
       "    <tr>\n",
       "      <th>1</th>\n",
       "      <td>1002</td>\n",
       "      <td>Patient_2</td>\n",
       "      <td>74</td>\n",
       "      <td>Diabetes</td>\n",
       "      <td>153</td>\n",
       "    </tr>\n",
       "    <tr>\n",
       "      <th>2</th>\n",
       "      <td>1003</td>\n",
       "      <td>Patient_3</td>\n",
       "      <td>40</td>\n",
       "      <td>Hypertension</td>\n",
       "      <td>196</td>\n",
       "    </tr>\n",
       "  </tbody>\n",
       "</table>\n",
       "</div>"
      ],
      "text/plain": [
       "   PatientID       Name  Age     Diagnosis  LabResult\n",
       "0       1001  Patient_1   20      Diabetes        167\n",
       "1       1002  Patient_2   74      Diabetes        153\n",
       "2       1003  Patient_3   40  Hypertension        196"
      ]
     },
     "execution_count": 14,
     "metadata": {},
     "output_type": "execute_result"
    }
   ],
   "source": [
    "df.head(3)"
   ]
  },
  {
   "cell_type": "code",
   "execution_count": 15,
   "id": "572ea090-397f-46f5-bfa0-d4bd8def8510",
   "metadata": {},
   "outputs": [],
   "source": [
    "# Drop rows with missing values in other columns\n",
    "df.dropna(inplace=True)"
   ]
  },
  {
   "cell_type": "code",
   "execution_count": 16,
   "id": "08a3352f-3ce9-4895-8ed3-8ae7267c7a80",
   "metadata": {},
   "outputs": [
    {
     "name": "stdout",
     "output_type": "stream",
     "text": [
      "\n",
      "Cleaned DataFrame:\n",
      "   PatientID       Name  Age     Diagnosis  LabResult\n",
      "0       1001  Patient_1   20      Diabetes        167\n",
      "1       1002  Patient_2   74      Diabetes        153\n",
      "2       1003  Patient_3   40  Hypertension        196\n",
      "3       1004  Patient_4   23       Unknown        157\n",
      "4       1005  Patient_5   35      Diabetes        115\n"
     ]
    }
   ],
   "source": [
    "# Display the first few rows of the cleaned DataFrame\n",
    "print(\"\\nCleaned DataFrame:\")\n",
    "print(df.head())"
   ]
  },
  {
   "cell_type": "code",
   "execution_count": 17,
   "id": "f3f46c0f-e6c4-4b28-976d-059bada304b3",
   "metadata": {},
   "outputs": [],
   "source": [
    "# Save the cleaned DataFrame to a new CSV file\n",
    "df.to_csv(\"update_patient.csv\", index=False)\n"
   ]
  },
  {
   "cell_type": "code",
   "execution_count": 18,
   "id": "b80e6bf4-3b57-4fa4-859d-87b7ad3ad3a8",
   "metadata": {},
   "outputs": [
    {
     "name": "stdout",
     "output_type": "stream",
     "text": [
      "DataFrame has been saved to 'update_patient.csv'\n"
     ]
    }
   ],
   "source": [
    "print(\"DataFrame has been saved to 'update_patient.csv'\")"
   ]
  },
  {
   "cell_type": "code",
   "execution_count": null,
   "id": "40eebb58-53ae-4656-946c-b5e864ae8d3d",
   "metadata": {},
   "outputs": [],
   "source": []
  }
 ],
 "metadata": {
  "kernelspec": {
   "display_name": "Python 3 (ipykernel)",
   "language": "python",
   "name": "python3"
  },
  "language_info": {
   "codemirror_mode": {
    "name": "ipython",
    "version": 3
   },
   "file_extension": ".py",
   "mimetype": "text/x-python",
   "name": "python",
   "nbconvert_exporter": "python",
   "pygments_lexer": "ipython3",
   "version": "3.10.12"
  }
 },
 "nbformat": 4,
 "nbformat_minor": 5
}
